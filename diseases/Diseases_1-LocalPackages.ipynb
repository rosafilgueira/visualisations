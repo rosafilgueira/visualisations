{
 "cells": [
  {
   "cell_type": "markdown",
   "metadata": {},
   "source": [
    "Prevalence of Disease\n",
    "---\n",
    "\n",
    "The larger query has examined the presence and rate of occurence of certain disease names in corpus. Here we want 1) to look at this data, 2) graph it per year, and eventually 3) compare these diseases. We will also need to 4) normalise the data, to account for increased publishing activity over time.\n"
   ]
  },
  {
   "cell_type": "markdown",
   "metadata": {},
   "source": [
    "Import relevant libraries and data\n",
    "----"
   ]
  },
  {
   "cell_type": "code",
   "execution_count": 5,
   "metadata": {
    "collapsed": false
   },
   "outputs": [],
   "source": [
    "#!pip install --user PyYAML\n",
    "#!pip install --user matplotlib"
   ]
  },
  {
   "cell_type": "code",
   "execution_count": 6,
   "metadata": {
    "collapsed": false
   },
   "outputs": [],
   "source": [
    "import os, site\n",
    "os.environ[\"PYTHONPATH\"]= site.USER_BASE+\"/lib/python/site-packages:\"+os.environ[\"PYTHONPATH\"]"
   ]
  },
  {
   "cell_type": "code",
   "execution_count": 8,
   "metadata": {
    "collapsed": false
   },
   "outputs": [],
   "source": [
    "import yaml\n",
    "import matplotlib.pyplot as plt\n",
    "disease = 'consumption'\n",
    "filename = 'consumption.yml'"
   ]
  },
  {
   "cell_type": "markdown",
   "metadata": {},
   "source": [
    "Here, change the search term and the result file by commenting out the ones you don't want to use"
   ]
  },
  {
   "cell_type": "code",
   "execution_count": 9,
   "metadata": {
    "collapsed": false
   },
   "outputs": [],
   "source": [
    "disease = 'cholera'\n",
    "filename = 'cholera.yml'\n",
    "\n",
    "disease = 'measles'\n",
    "filename = 'measles.yml'\n",
    "\n",
    "disease = 'whooping'\n",
    "filename = 'whooping.yml'"
   ]
  },
  {
   "cell_type": "code",
   "execution_count": 10,
   "metadata": {
    "collapsed": false
   },
   "outputs": [],
   "source": [
    "with open(\"/home/users/rfilguei/cluster-code-rosa/visualisations/diseases/data/\" + filename, 'r') as f:\n",
    "    results = yaml.load(f)"
   ]
  },
  {
   "cell_type": "markdown",
   "metadata": {},
   "source": [
    "Take a look at the data for the disease type we're interested in"
   ]
  },
  {
   "cell_type": "code",
   "execution_count": 11,
   "metadata": {
    "collapsed": false
   },
   "outputs": [
    {
     "name": "stdout",
     "output_type": "stream",
     "text": [
      "{1799: 3, 1801: 2, 1805: 2, 1806: 1, 1807: 1, 1809: 1, 1810: 2, 1811: 3, 1812: 6, 1813: 6, 1814: 5, 1815: 2, 1816: 5, 1817: 6, 1818: 5, 1819: 4, 1820: 2, 1821: 3, 1822: 2, 1823: 4, 1824: 1, 1825: 5, 1826: 3, 1827: 15, 1828: 5, 1829: 6, 1830: 1, 1831: 3, 1832: 3, 1833: 5, 1834: 6, 1835: 13, 1836: 11, 1837: 5, 1838: 8, 1839: 13, 1840: 14, 1841: 11, 1842: 14, 1843: 3, 1844: 17, 1845: 10, 1846: 19, 1847: 7, 1848: 10, 1849: 34, 1850: 18, 1851: 22, 1852: 25, 1853: 15, 1854: 13, 1855: 15, 1856: 13, 1857: 17, 1858: 5, 1859: 16, 1860: 37, 1861: 19, 1862: 19, 1863: 27, 1864: 20, 1865: 27, 1866: 21, 1867: 25, 1868: 37, 1869: 39, 1870: 35, 1871: 14, 1872: 28, 1873: 28, 1874: 25, 1875: 33, 1876: 26, 1877: 20, 1878: 36, 1879: 42, 1880: 44, 1881: 34, 1882: 72, 1883: 42, 1884: 58, 1885: 53, 1886: 25, 1887: 35, 1888: 37, 1633: 2, 1890: 87, 1891: 48, 1892: 112, 1893: 62, 1894: 48, 1639: 1, 1896: 56, 1897: 92, 1898: 60, 1895: 56, 1660: 4, 1661: 3, 1664: 2, 1668: 1, 1678: 2, 1679: 1, 1681: 1, 1686: 2, 1889: 49, 1713: 1, 1773: 1, 1775: 1, 1778: 1, 1784: 2, 1785: 2}\n"
     ]
    }
   ],
   "source": [
    "print results[disease]"
   ]
  },
  {
   "cell_type": "markdown",
   "metadata": {},
   "source": [
    "Plot this out by year"
   ]
  },
  {
   "cell_type": "code",
   "execution_count": 12,
   "metadata": {
    "collapsed": false
   },
   "outputs": [
    {
     "data": {
      "image/png": "[encoded data removed]",
      "text/plain": [
       "<Figure size 432x288 with 1 Axes>"
      ]
     },
     "metadata": {},
     "output_type": "display_data"
    }
   ],
   "source": [
    "plt.plot(results[disease].keys(), results[disease].values(), 'x')\n",
    "plt.show()"
   ]
  },
  {
   "cell_type": "markdown",
   "metadata": {},
   "source": [
    "Bokeh\n",
    "---\n",
    "\n",
    "Bokeh is a library which lets us create interactive web-based graphs and charts.\n",
    "\n",
    "Here, we're importing the libary, creating a graph with appropriate axis names, and displaying it in a web browser. We could put this on a web server or embed it in an html page (one which allows JavaScript).\n"
   ]
  },
  {
   "cell_type": "code",
   "execution_count": 13,
   "metadata": {
    "collapsed": false
   },
   "outputs": [],
   "source": [
    "#!pip install --user bokeh"
   ]
  },
  {
   "cell_type": "code",
   "execution_count": 14,
   "metadata": {
    "collapsed": false
   },
   "outputs": [],
   "source": [
    "from bokeh.plotting import figure, output_file, show\n"
   ]
  },
  {
   "cell_type": "code",
   "execution_count": 15,
   "metadata": {
    "collapsed": false
   },
   "outputs": [],
   "source": [
    "output_file(\"consumption.html\", title=\"Number of books referencing \" + disease + \" by year\")\n",
    "p = figure(title= disease + \" references\", x_axis_label='Year', y_axis_label='Number of books')\n",
    "p.line(results[disease].keys(), results[disease].values())\n",
    "show(p)"
   ]
  },
  {
   "cell_type": "markdown",
   "metadata": {},
   "source": [
    "Normalisation\n",
    "---\n",
    "\n",
    "Here, we are examining the total number of books published over the period to see how much our search terms are affected by the way that the number of books (and pages, and words!) published increases over the measurement period."
   ]
  },
  {
   "cell_type": "code",
   "execution_count": null,
   "metadata": {
    "collapsed": false
   },
   "outputs": [],
   "source": [
    "normal_filename = 'normaliser_20150616_1844.yml'\n",
    "with open('data/' + normal_filename, 'r') as f:\n",
    "    publication = yaml.load(f)"
   ]
  },
  {
   "cell_type": "markdown",
   "metadata": {},
   "source": [
    "These stages carry out **normalisation**: dividing the per year word occurence with the per year book occurence to get a words per book per year measure. \n",
    "\n",
    "**With new data we can normalise this as a ratio of words/word**\n"
   ]
  },
  {
   "cell_type": "code",
   "execution_count": null,
   "metadata": {
    "collapsed": false
   },
   "outputs": [],
   "source": [
    "normed_results = {}\n",
    "for year in results[disease]:\n",
    "    if year>0:\n",
    "        normed_results[year] = results[disease][year]/float(publication[year][0])"
   ]
  },
  {
   "cell_type": "code",
   "execution_count": null,
   "metadata": {
    "collapsed": false
   },
   "outputs": [],
   "source": [
    "plt.plot(normed_results.keys(), normed_results.values(), 'x')"
   ]
  },
  {
   "cell_type": "code",
   "execution_count": null,
   "metadata": {
    "collapsed": false
   },
   "outputs": [],
   "source": [
    "output_file(disease + \".html\", title=\"Proportion of books referencing \" + disease + \" by year\")\n",
    "p = figure(title= disease + \" references\", x_axis_label='Year', y_axis_label='Number of books')\n",
    "p.scatter(normed_results.keys(), normed_results.values())\n",
    "show(p)"
   ]
  },
  {
   "cell_type": "code",
   "execution_count": null,
   "metadata": {
    "collapsed": false
   },
   "outputs": [],
   "source": []
  }
 ],
 "metadata": {
  "kernelspec": {
   "display_name": "Python 2",
   "language": "python",
   "name": "python2"
  },
  "language_info": {
   "codemirror_mode": {
    "name": "ipython",
    "version": 2
   },
   "file_extension": ".py",
   "mimetype": "text/x-python",
   "name": "python",
   "nbconvert_exporter": "python",
   "pygments_lexer": "ipython2",
   "version": "2.7.5"
  }
 },
 "nbformat": 4,
 "nbformat_minor": 0
}
