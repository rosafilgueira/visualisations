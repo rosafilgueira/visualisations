{
 "cells": [
  {
   "cell_type": "markdown",
   "metadata": {},
   "source": [
    "Prevalence of Disease\n",
    "---\n",
    "\n",
    "The larger query has examined the presence and rate of occurence of certain disease names in corpus. Here we want 1) to look at this data, 2) graph it per year, and eventually 3) compare these diseases. We will also need to 4) normalise the data, to account for increased publishing activity over time.\n"
   ]
  },
  {
   "cell_type": "markdown",
   "metadata": {},
   "source": [
    "Import relevant libraries and data\n",
    "----"
   ]
  },
  {
   "cell_type": "code",
   "execution_count": 119,
   "metadata": {
    "collapsed": false
   },
   "outputs": [
    {
     "name": "stdout",
     "output_type": "stream",
     "text": [
      "\u001b[33mYou are using pip version 7.1.0, however version 10.0.1 is available.\n",
      "You should consider upgrading via the 'pip install --upgrade pip' command.\u001b[0m\n",
      "Requirement already satisfied (use --upgrade to upgrade): PyYAML in /home/users/rfilguei/.local/lib/python2.7/site-packages\n",
      "\u001b[33mYou are using pip version 7.1.0, however version 10.0.1 is available.\n",
      "You should consider upgrading via the 'pip install --upgrade pip' command.\u001b[0m\n",
      "Requirement already satisfied (use --upgrade to upgrade): matplotlib in /home/users/rfilguei/.local/lib/python2.7/site-packages\n",
      "Requirement already satisfied (use --upgrade to upgrade): pytz in /home/users/rfilguei/.local/lib/python2.7/site-packages (from matplotlib)\n",
      "Requirement already satisfied (use --upgrade to upgrade): numpy>=1.7.1 in /usr/lib64/python2.7/site-packages (from matplotlib)\n",
      "Requirement already satisfied (use --upgrade to upgrade): cycler>=0.10 in /home/users/rfilguei/.local/lib/python2.7/site-packages (from matplotlib)\n",
      "Requirement already satisfied (use --upgrade to upgrade): backports.functools-lru-cache in /home/users/rfilguei/.local/lib/python2.7/site-packages (from matplotlib)\n",
      "Requirement already satisfied (use --upgrade to upgrade): kiwisolver>=1.0.1 in /home/users/rfilguei/.local/lib/python2.7/site-packages (from matplotlib)\n",
      "Requirement already satisfied (use --upgrade to upgrade): subprocess32 in /home/users/rfilguei/.local/lib/python2.7/site-packages (from matplotlib)\n",
      "Requirement already satisfied (use --upgrade to upgrade): six>=1.10 in /home/users/rfilguei/.local/lib/python2.7/site-packages (from matplotlib)\n",
      "Requirement already satisfied (use --upgrade to upgrade): pyparsing!=2.0.4,!=2.1.2,!=2.1.6,>=2.0.1 in /home/users/rfilguei/.local/lib/python2.7/site-packages (from matplotlib)\n",
      "Requirement already satisfied (use --upgrade to upgrade): python-dateutil>=2.1 in /home/users/rfilguei/.local/lib/python2.7/site-packages (from matplotlib)\n",
      "Requirement already satisfied (use --upgrade to upgrade): setuptools in /usr/lib/python2.7/site-packages (from kiwisolver>=1.0.1->matplotlib)\n"
     ]
    }
   ],
   "source": [
    "#!pip install --user PyYAML\n",
    "#!pip install --user matplotlib"
   ]
  },
  {
   "cell_type": "code",
   "execution_count": 2,
   "metadata": {
    "collapsed": false
   },
   "outputs": [
    {
     "name": "stdout",
     "output_type": "stream",
     "text": [
      "\n",
      "/usr/bin/python\n",
      "/usr/lib64/python27.zip\n",
      "/usr/lib64/python2.7\n",
      "/usr/lib64/python2.7/plat-linux2\n",
      "/usr/lib64/python2.7/lib-tk\n",
      "/usr/lib64/python2.7/lib-old\n",
      "/usr/lib64/python2.7/lib-dynload\n",
      "/home/users/rfilguei/.local/lib/python2.7/site-packages\n",
      "/usr/lib64/python2.7/site-packages\n",
      "/usr/lib/python2.7/site-packages\n",
      "/usr/lib/python2.7/site-packages/IPython/extensions\n",
      "/home/users/rfilguei/.ipython\n",
      "/home/users/rfilguei/.local/lib/python/site-packages\n"
     ]
    }
   ],
   "source": [
    "import sys\n",
    "sys.path.append(\"/home/users/rfilguei/.local/lib/python/site-packages\")\n",
    "print '\\n'.join(sys.path)"
   ]
  },
  {
   "cell_type": "code",
   "execution_count": 13,
   "metadata": {
    "collapsed": false
   },
   "outputs": [],
   "source": [
    "import yaml\n",
    "import matplotlib.pyplot as plt\n",
    "disease = 'consumption'\n",
    "filename = 'consumption.yml'"
   ]
  },
  {
   "cell_type": "markdown",
   "metadata": {},
   "source": [
    "Here, change the search term and the result file by commenting out the ones you don't want to use"
   ]
  },
  {
   "cell_type": "code",
   "execution_count": 14,
   "metadata": {
    "collapsed": false
   },
   "outputs": [],
   "source": [
    "disease = 'cholera'\n",
    "filename = 'cholera.yml'\n",
    "\n",
    "disease = 'measles'\n",
    "filename = 'measles.yml'\n",
    "\n",
    "disease = 'whooping'\n",
    "filename = 'whooping.yml'"
   ]
  },
  {
   "cell_type": "code",
   "execution_count": 23,
   "metadata": {
    "collapsed": false
   },
   "outputs": [],
   "source": [
    "with open(\"/home/users/rfilguei/cluster-code-rosa/visualisations/diseases/data/\" + filename, 'r') as f:\n",
    "    results = yaml.load(f)"
   ]
  },
  {
   "cell_type": "markdown",
   "metadata": {},
   "source": [
    "Take a look at the data for the disease type we're interested in"
   ]
  },
  {
   "cell_type": "code",
   "execution_count": 31,
   "metadata": {
    "collapsed": false
   },
   "outputs": [
    {
     "name": "stdout",
     "output_type": "stream",
     "text": [
      "{1799: 3, 1801: 2, 1805: 2, 1806: 1, 1807: 1, 1809: 1, 1810: 2, 1811: 3, 1812: 6, 1813: 6, 1814: 5, 1815: 2, 1816: 5, 1817: 6, 1818: 5, 1819: 4, 1820: 2, 1821: 3, 1822: 2, 1823: 4, 1824: 1, 1825: 5, 1826: 3, 1827: 15, 1828: 5, 1829: 6, 1830: 1, 1831: 3, 1832: 3, 1833: 5, 1834: 6, 1835: 13, 1836: 11, 1837: 5, 1838: 8, 1839: 13, 1840: 14, 1841: 11, 1842: 14, 1843: 3, 1844: 17, 1845: 10, 1846: 19, 1847: 7, 1848: 10, 1849: 34, 1850: 18, 1851: 22, 1852: 25, 1853: 15, 1854: 13, 1855: 15, 1856: 13, 1857: 17, 1858: 5, 1859: 16, 1860: 37, 1861: 19, 1862: 19, 1863: 27, 1864: 20, 1865: 27, 1866: 21, 1867: 25, 1868: 37, 1869: 39, 1870: 35, 1871: 14, 1872: 28, 1873: 28, 1874: 25, 1875: 33, 1876: 26, 1877: 20, 1878: 36, 1879: 42, 1880: 44, 1881: 34, 1882: 72, 1883: 42, 1884: 58, 1885: 53, 1886: 25, 1887: 35, 1888: 37, 1633: 2, 1890: 87, 1891: 48, 1892: 112, 1893: 62, 1894: 48, 1639: 1, 1896: 56, 1897: 92, 1898: 60, 1895: 56, 1660: 4, 1661: 3, 1664: 2, 1668: 1, 1678: 2, 1679: 1, 1681: 1, 1686: 2, 1889: 49, 1713: 1, 1773: 1, 1775: 1, 1778: 1, 1784: 2, 1785: 2}\n"
     ]
    }
   ],
   "source": [
    "print results[disease]"
   ]
  },
  {
   "cell_type": "markdown",
   "metadata": {},
   "source": [
    "Plot this out by year"
   ]
  },
  {
   "cell_type": "code",
   "execution_count": 32,
   "metadata": {
    "collapsed": false
   },
   "outputs": [
    {
     "data": {
      "image/png": "[encoded data removed]",
      "text/plain": [
       "<Figure size 432x288 with 1 Axes>"
      ]
     },
     "metadata": {},
     "output_type": "display_data"
    }
   ],
   "source": [
    "plt.plot(results[disease].keys(), results[disease].values(), 'x')\n",
    "plt.show()"
   ]
  },
  {
   "cell_type": "markdown",
   "metadata": {},
   "source": [
    "Bokeh\n",
    "---\n",
    "\n",
    "Bokeh is a library which lets us create interactive web-based graphs and charts.\n",
    "\n",
    "Here, we're importing the libary, creating a graph with appropriate axis names, and displaying it in a web browser. We could put this on a web server or embed it in an html page (one which allows JavaScript).\n"
   ]
  },
  {
   "cell_type": "code",
   "execution_count": 35,
   "metadata": {
    "collapsed": false
   },
   "outputs": [
    {
     "name": "stdout",
     "output_type": "stream",
     "text": [
      "\u001b[33mYou are using pip version 7.1.0, however version 10.0.1 is available.\n",
      "You should consider upgrading via the 'pip install --upgrade pip' command.\u001b[0m\n",
      "Collecting bokeh\n",
      "  Downloading https://files.pythonhosted.org/packages/07/1b/1bb751797f0bbbafc2642c629656ce158e7e7b7fb1110f449f7c320fb819/bokeh-0.13.0.tar.gz (16.0MB)\n",
      "\u001b[K    100% |████████████████████████████████| 16.0MB 23kB/s \n",
      "\u001b[?25hRequirement already satisfied (use --upgrade to upgrade): six>=1.5.2 in /home/users/rfilguei/.local/lib/python2.7/site-packages (from bokeh)\n",
      "Requirement already satisfied (use --upgrade to upgrade): PyYAML>=3.10 in /home/users/rfilguei/.local/lib/python2.7/site-packages (from bokeh)\n",
      "Requirement already satisfied (use --upgrade to upgrade): python-dateutil>=2.1 in /home/users/rfilguei/.local/lib/python2.7/site-packages (from bokeh)\n",
      "Collecting Jinja2>=2.7 (from bokeh)\n",
      "  Downloading https://files.pythonhosted.org/packages/7f/ff/ae64bacdfc95f27a016a7bed8e8686763ba4d277a78ca76f32659220a731/Jinja2-2.10-py2.py3-none-any.whl (126kB)\n",
      "\u001b[K    100% |████████████████████████████████| 126kB 479kB/s \n",
      "\u001b[?25hRequirement already satisfied (use --upgrade to upgrade): numpy>=1.7.1 in /usr/lib64/python2.7/site-packages (from bokeh)\n",
      "Collecting packaging>=16.8 (from bokeh)\n",
      "  Downloading https://files.pythonhosted.org/packages/ad/c2/b500ea05d5f9f361a562f089fc91f77ed3b4783e13a08a3daf82069b1224/packaging-17.1-py2.py3-none-any.whl\n",
      "Requirement already satisfied (use --upgrade to upgrade): tornado>=4.3 in /usr/lib/python2.7/site-packages (from bokeh)\n",
      "Collecting futures>=3.0.3 (from bokeh)\n",
      "  Downloading https://files.pythonhosted.org/packages/2d/99/b2c4e9d5a30f6471e410a146232b4118e697fa3ffc06d6a65efde84debd0/futures-3.2.0-py2-none-any.whl\n",
      "Collecting MarkupSafe>=0.23 (from Jinja2>=2.7->bokeh)\n",
      "  Downloading https://files.pythonhosted.org/packages/4d/de/32d741db316d8fdb7680822dd37001ef7a448255de9699ab4bfcbdf4172b/MarkupSafe-1.0.tar.gz\n",
      "Requirement already satisfied (use --upgrade to upgrade): pyparsing>=2.0.2 in /home/users/rfilguei/.local/lib/python2.7/site-packages (from packaging>=16.8->bokeh)\n",
      "Requirement already satisfied (use --upgrade to upgrade): backports.ssl-match-hostname in /usr/lib/python2.7/site-packages (from tornado>=4.3->bokeh)\n",
      "Requirement already satisfied (use --upgrade to upgrade): singledispatch in /usr/lib/python2.7/site-packages (from tornado>=4.3->bokeh)\n",
      "Requirement already satisfied (use --upgrade to upgrade): certifi in /usr/lib/python2.7/site-packages (from tornado>=4.3->bokeh)\n",
      "Requirement already satisfied (use --upgrade to upgrade): backports-abc>=0.4 in /usr/lib/python2.7/site-packages (from tornado>=4.3->bokeh)\n",
      "Building wheels for collected packages: bokeh, MarkupSafe\n",
      "  Running setup.py bdist_wheel for bokeh\n",
      "  Stored in directory: /home/users/rfilguei/.cache/pip/wheels/05/3e/43/95ff0bde940a0a5d86ec13c22d2a4bddc97271cd788f441a63\n",
      "  Running setup.py bdist_wheel for MarkupSafe\n",
      "  Stored in directory: /home/users/rfilguei/.cache/pip/wheels/33/56/20/ebe49a5c612fffe1c5a632146b16596f9e64676768661e4e46\n",
      "Successfully built bokeh MarkupSafe\n",
      "Installing collected packages: MarkupSafe, Jinja2, packaging, futures, bokeh\n",
      "Successfully installed Jinja2-2.10 MarkupSafe-1.0 bokeh-0.13.0 futures-3.2.0 packaging-17.1\n"
     ]
    }
   ],
   "source": [
    "!pip install --user bokeh"
   ]
  },
  {
   "cell_type": "code",
   "execution_count": 36,
   "metadata": {
    "collapsed": false
   },
   "outputs": [],
   "source": [
    "from bokeh.plotting import figure, output_file, show"
   ]
  },
  {
   "cell_type": "code",
   "execution_count": 37,
   "metadata": {
    "collapsed": false
   },
   "outputs": [],
   "source": [
    "output_file(\"consumption.html\", title=\"Number of books referencing \" + disease + \" by year\")\n",
    "p = figure(title= disease + \" references\", x_axis_label='Year', y_axis_label='Number of books')\n",
    "p.line(results[disease].keys(), results[disease].values())\n",
    "show(p)"
   ]
  },
  {
   "cell_type": "markdown",
   "metadata": {},
   "source": [
    "Normalisation\n",
    "---\n",
    "\n",
    "Here, we are examining the total number of books published over the period to see how much our search terms are affected by the way that the number of books (and pages, and words!) published increases over the measurement period."
   ]
  },
  {
   "cell_type": "code",
   "execution_count": 8,
   "metadata": {
    "collapsed": false
   },
   "outputs": [],
   "source": [
    "normal_filename = 'normaliser_20150616_1844.yml'\n",
    "with open('data/' + normal_filename, 'r') as f:\n",
    "    publication = yaml.load(f)"
   ]
  },
  {
   "cell_type": "markdown",
   "metadata": {},
   "source": [
    "These stages carry out **normalisation**: dividing the per year word occurence with the per year book occurence to get a words per book per year measure. \n",
    "\n",
    "**With new data we can normalise this as a ratio of words/word**\n"
   ]
  },
  {
   "cell_type": "code",
   "execution_count": 15,
   "metadata": {
    "collapsed": false
   },
   "outputs": [],
   "source": [
    "normed_results = {}\n",
    "for year in results[disease]:\n",
    "    if year>0:\n",
    "        normed_results[year] = results[disease][year]/float(publication[year][0])"
   ]
  },
  {
   "cell_type": "code",
   "execution_count": 17,
   "metadata": {
    "collapsed": false
   },
   "outputs": [
    {
     "data": {
      "text/plain": [
       "[<matplotlib.lines.Line2D at 0x10e701890>]"
      ]
     },
     "execution_count": 17,
     "metadata": {},
     "output_type": "execute_result"
    },
    {
     "data": {
      "image/png": "[encoded data removed]",
      "text/plain": [
       "<matplotlib.figure.Figure at 0x10dd43c10>"
      ]
     },
     "metadata": {},
     "output_type": "display_data"
    }
   ],
   "source": [
    "plt.plot(normed_results.keys(), normed_results.values(), 'x')"
   ]
  },
  {
   "cell_type": "code",
   "execution_count": 22,
   "metadata": {
    "collapsed": false
   },
   "outputs": [],
   "source": [
    "output_file(disease + \".html\", title=\"Proportion of books referencing \" + disease + \" by year\")\n",
    "p = figure(title= disease + \" references\", x_axis_label='Year', y_axis_label='Number of books')\n",
    "p.scatter(normed_results.keys(), normed_results.values())\n",
    "show(p)"
   ]
  },
  {
   "cell_type": "code",
   "execution_count": null,
   "metadata": {
    "collapsed": false
   },
   "outputs": [],
   "source": []
  }
 ],
 "metadata": {
  "kernelspec": {
   "display_name": "Python 2",
   "language": "python",
   "name": "python2"
  },
  "language_info": {
   "codemirror_mode": {
    "name": "ipython",
    "version": 2
   },
   "file_extension": ".py",
   "mimetype": "text/x-python",
   "name": "python",
   "nbconvert_exporter": "python",
   "pygments_lexer": "ipython2",
   "version": "2.7.5"
  }
 },
 "nbformat": 4,
 "nbformat_minor": 0
}
